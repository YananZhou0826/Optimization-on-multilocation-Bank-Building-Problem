{
 "cells": [
  {
   "cell_type": "markdown",
   "metadata": {},
   "source": [
    " "
   ]
  },
  {
   "cell_type": "markdown",
   "metadata": {},
   "source": [
    "# <center><font face=Times New Roman>Homework 1 <br/> <font color=grey  size=4>Qianran Ma | 7798937244 &ensp;&ensp;&ensp;&ensp; Yanan Zhou | 4366462176</font> </center>"
   ]
  },
  {
   "cell_type": "markdown",
   "metadata": {},
   "source": [
    "## <font face=Times New Roman size=5>- Introduction -</font>\n",
    "### <font face=Times New Roman>After reading the paper, the steps we took to complete this homework are as follows: "
   ]
  },
  {
   "cell_type": "markdown",
   "metadata": {},
   "source": [
    "<font face= Times New Roman size=4>(1) Data collection and cleaning <br/> (2) Model building <br/> (3) Solving the problem with population data of 2010 and 2020 <br/> (4) The \"glide-path\" property issue</font>"
   ]
  },
  {
   "cell_type": "markdown",
   "metadata": {},
   "source": [
    "  "
   ]
  },
  {
   "cell_type": "markdown",
   "metadata": {},
   "source": [
    "## (1) Data collection and cleaning"
   ]
  },
  {
   "cell_type": "markdown",
   "metadata": {},
   "source": [
    "In the data preparation part, we summarize the data needed to build the model, which were the border data and the population data of 2010 and 2020（https://data.census.gov/）. The border data are used to form $a_{ij}$ in the formula; the population data are $pop^{2010}_i$ and $pop^{2020}_i$ in the objective function."
   ]
  },
  {
   "cell_type": "markdown",
   "metadata": {},
   "source": [
    "* For the border data, we collected the pairs of counties of Ohio which share a border, defined as ***df_a***, and then we design a function to work out the matrix $a_{ij}$.<br/>(The results we get in the following scripts are the set of index(0-87), so we need to add 1 for each to get the original county index(1-88))"
   ]
  },
  {
   "cell_type": "code",
   "execution_count": 1,
   "metadata": {},
   "outputs": [],
   "source": [
    "import numpy as np\n",
    "import pandas as pd\n",
    "import cvxpy as cp"
   ]
  },
  {
   "cell_type": "code",
   "execution_count": 2,
   "metadata": {},
   "outputs": [
    {
     "data": {
      "text/plain": [
       "[[0, 1], [0, 17], [0, 18], [1, 2], [1, 16], [1, 17]]"
      ]
     },
     "execution_count": 2,
     "metadata": {},
     "output_type": "execute_result"
    }
   ],
   "source": [
    "# set of county sharing the same border\n",
    "df_a=pd.read_excel(\"aij.xlsx\")\n",
    "ls_a=df_a.values.tolist()\n",
    "ls_a[:6]"
   ]
  },
  {
   "cell_type": "code",
   "execution_count": 3,
   "metadata": {},
   "outputs": [],
   "source": [
    "# define a function to judge 2 county whether share a border\n",
    "def aij(i,j):\n",
    "    if i==j:\n",
    "        return 1\n",
    "    elif i<j:\n",
    "        if [i,j] in ls_a:\n",
    "            return 1\n",
    "        else:\n",
    "            return 0\n",
    "    else:\n",
    "        if [j,i] in ls_a:\n",
    "            return 1\n",
    "        else:\n",
    "            return 0"
   ]
  },
  {
   "cell_type": "markdown",
   "metadata": {},
   "source": [
    "* For the population data, we collect the population data of 2010 and 2020 from Census website, respectively defined as “c10” and “c20”."
   ]
  },
  {
   "cell_type": "code",
   "execution_count": 4,
   "metadata": {},
   "outputs": [
    {
     "data": {
      "text/html": [
       "<div>\n",
       "<style scoped>\n",
       "    .dataframe tbody tr th:only-of-type {\n",
       "        vertical-align: middle;\n",
       "    }\n",
       "\n",
       "    .dataframe tbody tr th {\n",
       "        vertical-align: top;\n",
       "    }\n",
       "\n",
       "    .dataframe thead th {\n",
       "        text-align: right;\n",
       "    }\n",
       "</style>\n",
       "<table border=\"1\" class=\"dataframe\">\n",
       "  <thead>\n",
       "    <tr style=\"text-align: right;\">\n",
       "      <th></th>\n",
       "      <th>n</th>\n",
       "      <th>County_Name</th>\n",
       "      <th>POP_2010</th>\n",
       "      <th>POP_2020</th>\n",
       "    </tr>\n",
       "  </thead>\n",
       "  <tbody>\n",
       "    <tr>\n",
       "      <th>0</th>\n",
       "      <td>1</td>\n",
       "      <td>WILLIAMS</td>\n",
       "      <td>38172</td>\n",
       "      <td>37102</td>\n",
       "    </tr>\n",
       "    <tr>\n",
       "      <th>1</th>\n",
       "      <td>2</td>\n",
       "      <td>DEFIANCE</td>\n",
       "      <td>39119</td>\n",
       "      <td>38286</td>\n",
       "    </tr>\n",
       "    <tr>\n",
       "      <th>2</th>\n",
       "      <td>3</td>\n",
       "      <td>PAULDING</td>\n",
       "      <td>19679</td>\n",
       "      <td>18806</td>\n",
       "    </tr>\n",
       "    <tr>\n",
       "      <th>3</th>\n",
       "      <td>4</td>\n",
       "      <td>VAN WERT</td>\n",
       "      <td>29029</td>\n",
       "      <td>28931</td>\n",
       "    </tr>\n",
       "    <tr>\n",
       "      <th>4</th>\n",
       "      <td>5</td>\n",
       "      <td>MERCER</td>\n",
       "      <td>40958</td>\n",
       "      <td>42528</td>\n",
       "    </tr>\n",
       "    <tr>\n",
       "      <th>5</th>\n",
       "      <td>6</td>\n",
       "      <td>DARKE</td>\n",
       "      <td>52945</td>\n",
       "      <td>51881</td>\n",
       "    </tr>\n",
       "    <tr>\n",
       "      <th>6</th>\n",
       "      <td>7</td>\n",
       "      <td>PREBLE</td>\n",
       "      <td>42502</td>\n",
       "      <td>40999</td>\n",
       "    </tr>\n",
       "    <tr>\n",
       "      <th>7</th>\n",
       "      <td>8</td>\n",
       "      <td>BUTLER</td>\n",
       "      <td>363465</td>\n",
       "      <td>390357</td>\n",
       "    </tr>\n",
       "    <tr>\n",
       "      <th>8</th>\n",
       "      <td>9</td>\n",
       "      <td>HAMILTON</td>\n",
       "      <td>802194</td>\n",
       "      <td>830639</td>\n",
       "    </tr>\n",
       "    <tr>\n",
       "      <th>9</th>\n",
       "      <td>10</td>\n",
       "      <td>CLERMONT</td>\n",
       "      <td>195312</td>\n",
       "      <td>208601</td>\n",
       "    </tr>\n",
       "  </tbody>\n",
       "</table>\n",
       "</div>"
      ],
      "text/plain": [
       "    n County_Name  POP_2010  POP_2020\n",
       "0   1    WILLIAMS     38172     37102\n",
       "1   2    DEFIANCE     39119     38286\n",
       "2   3    PAULDING     19679     18806\n",
       "3   4    VAN WERT     29029     28931\n",
       "4   5      MERCER     40958     42528\n",
       "5   6       DARKE     52945     51881\n",
       "6   7      PREBLE     42502     40999\n",
       "7   8      BUTLER    363465    390357\n",
       "8   9    HAMILTON    802194    830639\n",
       "9  10    CLERMONT    195312    208601"
      ]
     },
     "execution_count": 4,
     "metadata": {},
     "output_type": "execute_result"
    }
   ],
   "source": [
    "df_pop=pd.read_excel('pop.xlsx')\n",
    "df_pop[:10]"
   ]
  },
  {
   "cell_type": "code",
   "execution_count": 5,
   "metadata": {},
   "outputs": [],
   "source": [
    "# number of variables\n",
    "n=88\n",
    "\n",
    "# population data of 2010\n",
    "c10=np.array([0]*n)\n",
    "c10=np.append(c10,df_pop.POP_2010.values)"
   ]
  },
  {
   "cell_type": "code",
   "execution_count": 6,
   "metadata": {},
   "outputs": [],
   "source": [
    "# population data of 2020\n",
    "c20=np.array([0]*n)\n",
    "c20=np.append(c20,df_pop.POP_2020.values)"
   ]
  },
  {
   "cell_type": "markdown",
   "metadata": {},
   "source": [
    "## (2) Model Building"
   ]
  },
  {
   "cell_type": "markdown",
   "metadata": {},
   "source": [
    "In the model building part, we try to use Python to solve this mixed integer optimization problems. The package “cvxpy” is used. For the constraint set, we combine $x_{ij}$ and $y_{ij}$ as “X” and adjust the “A” of “AX$\\geq$b”."
   ]
  },
  {
   "cell_type": "code",
   "execution_count": 7,
   "metadata": {},
   "outputs": [],
   "source": [
    "# A of the constraint set \n",
    "ls_aij=[]\n",
    "for i in range(88):\n",
    "    ls2=[]\n",
    "    for j in range(88):\n",
    "        ls2.append(aij(i,j))\n",
    "    ls_aij.append(ls2)\n",
    "ls_aij=np.hstack((ls_aij,(-1)*np.eye(88,dtype=int)))\n",
    "a_=np.hstack((np.array([-1]*88),np.array([0]*88)))\n",
    "ls_aij=np.vstack((ls_aij,a_))"
   ]
  },
  {
   "cell_type": "markdown",
   "metadata": {},
   "source": [
    "We encapsulate the model in the implementation function with parameter c(population) and k(limit of principal places of business) to solve the optimization problem."
   ]
  },
  {
   "cell_type": "code",
   "execution_count": 8,
   "metadata": {},
   "outputs": [],
   "source": [
    "def implementation(c,k):\n",
    "    # b\n",
    "    b_=[0]*88\n",
    "    b_.append(-k)\n",
    "    b=np.array(b_)\n",
    "    \n",
    "    # model\n",
    "    x=cp.Variable(n*2,integer=True)\n",
    "    objective=cp.Maximize(cp.sum(c@x))\n",
    "    constraints=[0<=x,x<=1,np.array(ls_aij)@x>=b]\n",
    "    \n",
    "    prob=cp.Problem(objective,constraints)\n",
    "    result=prob.solve(solver=cp.CPLEX)\n",
    "    return x"
   ]
  },
  {
   "cell_type": "markdown",
   "metadata": {},
   "source": [
    "## (3) Solving the problem with population data of 2010 and 2020 "
   ]
  },
  {
   "cell_type": "markdown",
   "metadata": {},
   "source": [
    "We plug in c and k to obtain the solution of Question1 and Question2."
   ]
  },
  {
   "cell_type": "markdown",
   "metadata": {},
   "source": [
    "### <font face=Times New Roman>- Question 1- <br/><font size =3> Using the 2011 data, solve the network location problem which is described in the paper by Jeff Camm.</font>"
   ]
  },
  {
   "cell_type": "code",
   "execution_count": 9,
   "metadata": {},
   "outputs": [
    {
     "data": {
      "text/plain": [
       "array([-0., -0., -0.,  0., -0.,  0., -0., -0., -0.,  0.,  1.,  0.,  0.,\n",
       "       -0., -0., -0.,  0.,  0., -0., -0.,  1., -0.,  0., -0., -0., -0.,\n",
       "       -0.,  0.,  0.,  0.,  0., -0.,  0., -0., -0., -0., -0., -0., -0.,\n",
       "       -0.,  0.,  0., -0., -0.,  0., -0.,  0.,  0., -0., -0.,  0.,  0.,\n",
       "        0., -0.,  1., -0., -0.,  0.,  0.,  1., -0., -0., -0., -0., -0.,\n",
       "        0., -0.,  0., -0., -0., -0.,  0., -0., -0.,  1., -0.,  0.,  0.,\n",
       "       -0., -0., -0., -0., -0., -0., -0., -0., -0., -0., -0., -0., -0.,\n",
       "       -0., -0., -0., -0.,  1.,  1.,  1.,  1.,  1., -0., -0., -0., -0.,\n",
       "        1.,  1., -0.,  1.,  1.,  1., -0., -0., -0., -0.,  1.,  1., -0.,\n",
       "       -0., -0., -0., -0., -0., -0., -0.,  1.,  1.,  1., -0., -0., -0.,\n",
       "       -0.,  1.,  1., -0., -0., -0., -0., -0., -0., -0., -0.,  1.,  1.,\n",
       "        1., -0.,  1., -0.,  1.,  1.,  1.,  1.,  1.,  1.,  1., -0., -0.,\n",
       "       -0., -0., -0., -0., -0.,  1.,  1.,  1.,  1.,  1.,  1., -0., -0.,\n",
       "        1.,  1.,  1., -0., -0., -0., -0.])"
      ]
     },
     "execution_count": 9,
     "metadata": {},
     "output_type": "execute_result"
    }
   ],
   "source": [
    "# Implementation - 1st year\n",
    "x10=implementation(c10,5)\n",
    "x10.value"
   ]
  },
  {
   "cell_type": "code",
   "execution_count": 10,
   "metadata": {},
   "outputs": [
    {
     "data": {
      "text/plain": [
       "array([[10],\n",
       "       [20],\n",
       "       [54],\n",
       "       [59],\n",
       "       [74]])"
      ]
     },
     "execution_count": 10,
     "metadata": {},
     "output_type": "execute_result"
    }
   ],
   "source": [
    "x_index10=np.argwhere(x10.value==1)\n",
    "x_index10[:5]"
   ]
  },
  {
   "cell_type": "code",
   "execution_count": 11,
   "metadata": {},
   "outputs": [
    {
     "data": {
      "text/plain": [
       "array([-0., -0., -0.,  0., -0., -0., -0., -0., -0.,  1.,  0.,  1., -0.,\n",
       "       -0.,  1., -0.,  0.,  0., -0., -0.,  1., -0.,  0., -0.,  0.,  0.,\n",
       "       -0., -0.,  0., -0., -0., -0.,  0.,  0., -0., -0., -0., -0.,  0.,\n",
       "       -0.,  0.,  0.,  0., -0.,  1., -0., -0., -0.,  0., -0.,  1., -0.,\n",
       "        0., -0.,  0., -0., -0.,  0.,  1.,  0., -0.,  0., -0., -0., -0.,\n",
       "        0., -0.,  0., -0., -0., -0.,  0.,  1., -0.,  0., -0., -0.,  1.,\n",
       "       -0., -0.,  0.,  0.,  1., -0., -0., -0., -0., -0., -0., -0., -0.,\n",
       "        1.,  1.,  1.,  1.,  1.,  1.,  1.,  1.,  1.,  1.,  1.,  1.,  1.,\n",
       "        1.,  1., -0.,  1.,  1.,  1.,  1.,  1., -0.,  1.,  1.,  1.,  1.,\n",
       "       -0., -0., -0.,  1.,  1., -0., -0.,  1.,  1.,  1.,  0.,  1., -0.,\n",
       "       -0.,  1.,  1.,  1.,  1.,  1.,  1.,  1.,  1.,  1., -0.,  1.,  1.,\n",
       "        1.,  1.,  1.,  1.,  1.,  1.,  1.,  1.,  1.,  1., -0., -0., -0.,\n",
       "       -0.,  1., -0.,  1.,  1.,  1.,  1.,  1.,  1.,  1.,  1.,  1.,  1.,\n",
       "        1.,  1.,  1.,  1.,  1.,  1., -0.])"
      ]
     },
     "execution_count": 11,
     "metadata": {},
     "output_type": "execute_result"
    }
   ],
   "source": [
    "# Implementation - 2nd year\n",
    "x10_2=implementation(c10,10)\n",
    "x10_2.value"
   ]
  },
  {
   "cell_type": "code",
   "execution_count": 12,
   "metadata": {},
   "outputs": [
    {
     "data": {
      "text/plain": [
       "array([[ 9],\n",
       "       [11],\n",
       "       [14],\n",
       "       [20],\n",
       "       [44],\n",
       "       [50],\n",
       "       [58],\n",
       "       [72],\n",
       "       [77],\n",
       "       [82]])"
      ]
     },
     "execution_count": 12,
     "metadata": {},
     "output_type": "execute_result"
    }
   ],
   "source": [
    "x_index10_2=np.argwhere(x10_2.value==1)\n",
    "x_index10_2[:10]"
   ]
  },
  {
   "cell_type": "code",
   "execution_count": 13,
   "metadata": {},
   "outputs": [
    {
     "data": {
      "text/plain": [
       "array([-0.,  0., -0.,  1., -0.,  0., -0.,  1., -0.,  0.,  0.,  0.,  0.,\n",
       "        1.,  0.,  0.,  0.,  1., -0.,  0.,  0.,  0.,  0.,  0.,  0.,  0.,\n",
       "        0.,  0.,  1.,  0.,  0.,  0.,  1.,  0.,  1.,  0.,  0.,  1.,  0.,\n",
       "        0.,  0.,  0.,  0.,  0.,  0.,  0.,  0.,  0.,  0., -0.,  1.,  0.,\n",
       "        0.,  0.,  1.,  0.,  0.,  0.,  1.,  0.,  0.,  0.,  0.,  0.,  0.,\n",
       "        0.,  0.,  1., -0.,  0.,  0.,  0.,  0.,  0.,  1.,  0.,  0.,  1.,\n",
       "       -0., -0.,  0.,  0.,  0.,  0.,  0.,  0.,  1., -0.,  1.,  1.,  1.,\n",
       "        1.,  1.,  1.,  1.,  1.,  1.,  1.,  1.,  1.,  1.,  1.,  1.,  1.,\n",
       "        1.,  1.,  1.,  1.,  1.,  1.,  1.,  1.,  1.,  1.,  1.,  1.,  1.,\n",
       "        1.,  1.,  1.,  1.,  1.,  1.,  1.,  1.,  1.,  1.,  1.,  1.,  1.,\n",
       "        1.,  1.,  1.,  1.,  1.,  1.,  1.,  1.,  1.,  1.,  1.,  1.,  1.,\n",
       "        1.,  1.,  1.,  1.,  1.,  1.,  1.,  1.,  1.,  1.,  1.,  1.,  1.,\n",
       "        1.,  1.,  1.,  1.,  1.,  1.,  1.,  1.,  1.,  1.,  1.,  1.,  1.,\n",
       "        1.,  1.,  1.,  1.,  1.,  1.,  1.])"
      ]
     },
     "execution_count": 13,
     "metadata": {},
     "output_type": "execute_result"
    }
   ],
   "source": [
    "# Implementation - 3rd year\n",
    "x10_3=implementation(c10,15)\n",
    "x10_3.value"
   ]
  },
  {
   "cell_type": "code",
   "execution_count": 14,
   "metadata": {},
   "outputs": [
    {
     "data": {
      "text/plain": [
       "array([[ 3],\n",
       "       [ 7],\n",
       "       [13],\n",
       "       [17],\n",
       "       [28],\n",
       "       [32],\n",
       "       [34],\n",
       "       [37],\n",
       "       [50],\n",
       "       [54],\n",
       "       [58],\n",
       "       [67],\n",
       "       [74],\n",
       "       [77],\n",
       "       [86]])"
      ]
     },
     "execution_count": 14,
     "metadata": {},
     "output_type": "execute_result"
    }
   ],
   "source": [
    "x_index10_3=np.argwhere(x10_3.value==1)\n",
    "x_index10_3[:15]"
   ]
  },
  {
   "cell_type": "markdown",
   "metadata": {},
   "source": [
    "<font color=red>**Conclusion:**<br/>\n",
    "When k=5, the solution is (11, 21, 55, 60, 75);<br/>\n",
    "when k=10, the solution is (10, 12, 15, 21, 45, 51, 59, 73, 78, 83);<br/>\n",
    "when k=15, the solution is (4, 8, 14, 18, 29, 33, 35, 38, 51, 55, 59, 68, 75, 78, 87)."
   ]
  },
  {
   "cell_type": "markdown",
   "metadata": {},
   "source": [
    "### <font face=Times New Roman>- Question 2- <br/><font size =3> Using the 2020 data, repeat the same exercise as above.</font>"
   ]
  },
  {
   "cell_type": "code",
   "execution_count": 15,
   "metadata": {},
   "outputs": [
    {
     "data": {
      "text/plain": [
       "array([-0., -0., -0., -0., -0., -0., -0., -0., -0., -0.,  1.,  0.,  0.,\n",
       "        0.,  0., -0.,  0.,  0., -0., -0.,  1.,  0.,  0., -0.,  0., -0.,\n",
       "       -0.,  0.,  0.,  0., -0., -0.,  0., -0., -0., -0., -0., -0.,  0.,\n",
       "       -0.,  0.,  0., -0., -0.,  0.,  0., -0.,  0., -0., -0., -0., -0.,\n",
       "       -0.,  0.,  1., -0., -0., -0.,  0.,  1., -0.,  0., -0., -0., -0.,\n",
       "        0., -0., -0., -0., -0., -0., -0.,  0., -0.,  1.,  0., -0.,  0.,\n",
       "       -0., -0., -0.,  0., -0.,  0., -0., -0., -0., -0., -0., -0., -0.,\n",
       "       -0., -0., -0., -0.,  1.,  1.,  1.,  1.,  1., -0., -0., -0., -0.,\n",
       "        1.,  1., -0.,  1.,  1.,  1., -0., -0., -0., -0.,  1.,  1., -0.,\n",
       "       -0., -0., -0., -0., -0., -0., -0.,  1.,  1.,  1., -0., -0., -0.,\n",
       "       -0.,  1.,  1., -0., -0., -0., -0., -0., -0., -0., -0.,  1.,  1.,\n",
       "        1., -0.,  1., -0.,  1.,  1.,  1.,  1.,  1.,  1.,  1., -0., -0.,\n",
       "       -0., -0., -0., -0., -0.,  1.,  1.,  1.,  1.,  1.,  1., -0., -0.,\n",
       "        1.,  1.,  1., -0., -0., -0., -0.])"
      ]
     },
     "execution_count": 15,
     "metadata": {},
     "output_type": "execute_result"
    }
   ],
   "source": [
    "# Implementation - 1st year\n",
    "x20=implementation(c20,5)\n",
    "x20.value"
   ]
  },
  {
   "cell_type": "code",
   "execution_count": 16,
   "metadata": {},
   "outputs": [
    {
     "data": {
      "text/plain": [
       "array([[10],\n",
       "       [20],\n",
       "       [54],\n",
       "       [59],\n",
       "       [74]])"
      ]
     },
     "execution_count": 16,
     "metadata": {},
     "output_type": "execute_result"
    }
   ],
   "source": [
    "x_index20=np.argwhere(x20.value==1)\n",
    "x_index20[:5]"
   ]
  },
  {
   "cell_type": "code",
   "execution_count": 17,
   "metadata": {},
   "outputs": [
    {
     "data": {
      "text/plain": [
       "array([-0., -0., -0.,  0., -0., -0., -0.,  0., -0.,  1.,  0.,  1., -0.,\n",
       "        0.,  1., -0.,  0.,  0., -0., -0.,  1., -0.,  0., -0.,  0., -0.,\n",
       "       -0., -0., -0., -0., -0., -0.,  0.,  0., -0., -0., -0., -0.,  0.,\n",
       "       -0.,  0.,  0.,  0.,  0.,  1., -0.,  0., -0., -0., -0.,  1., -0.,\n",
       "        0., -0.,  0., -0., -0.,  0.,  1.,  0., -0., -0., -0., -0., -0.,\n",
       "        0., -0., -0., -0., -0., -0., -0.,  1., -0.,  0., -0., -0.,  1.,\n",
       "       -0., -0.,  0.,  0.,  1.,  0.,  0.,  0., -0., -0., -0., -0., -0.,\n",
       "        1.,  1.,  1.,  1.,  1.,  1.,  1.,  1.,  1.,  1.,  1.,  1.,  1.,\n",
       "        1.,  1., -0.,  1.,  1.,  1.,  1.,  1., -0.,  1.,  1.,  1.,  1.,\n",
       "       -0., -0., -0.,  1.,  1., -0., -0.,  1.,  1.,  1.,  0.,  1., -0.,\n",
       "       -0.,  1.,  1.,  1.,  1.,  1.,  1.,  1.,  1.,  1., -0.,  1.,  1.,\n",
       "        1.,  1.,  1.,  1.,  1.,  1.,  1.,  1.,  1.,  1., -0., -0., -0.,\n",
       "       -0.,  1., -0.,  1.,  1.,  1.,  1.,  1.,  1.,  1.,  1.,  1.,  1.,\n",
       "        1.,  1.,  1.,  1.,  1.,  1., -0.])"
      ]
     },
     "execution_count": 17,
     "metadata": {},
     "output_type": "execute_result"
    }
   ],
   "source": [
    "# Implementation - 2nd year\n",
    "x20_2=implementation(c20,10)\n",
    "x20_2.value"
   ]
  },
  {
   "cell_type": "code",
   "execution_count": 18,
   "metadata": {},
   "outputs": [
    {
     "data": {
      "text/plain": [
       "array([[ 9],\n",
       "       [11],\n",
       "       [14],\n",
       "       [20],\n",
       "       [44],\n",
       "       [50],\n",
       "       [58],\n",
       "       [72],\n",
       "       [77],\n",
       "       [82]])"
      ]
     },
     "execution_count": 18,
     "metadata": {},
     "output_type": "execute_result"
    }
   ],
   "source": [
    "x_index20_2=np.argwhere(x20_2.value==1)\n",
    "x_index20_2[:10]"
   ]
  },
  {
   "cell_type": "code",
   "execution_count": 19,
   "metadata": {},
   "outputs": [
    {
     "data": {
      "text/plain": [
       "array([-0.,  0., -0.,  1., -0.,  0., -0.,  1., -0.,  0.,  0.,  0.,  0.,\n",
       "        1.,  0.,  0.,  0.,  1., -0.,  0.,  0.,  0.,  0.,  0.,  0.,  0.,\n",
       "        0.,  0.,  1.,  0.,  0.,  0.,  1.,  0.,  1.,  0.,  0.,  1.,  0.,\n",
       "        0.,  0.,  0.,  0.,  0.,  0.,  0.,  0.,  0.,  0., -0.,  1.,  0.,\n",
       "        0.,  0.,  1.,  0.,  0.,  0.,  1.,  0.,  0.,  0.,  0.,  0.,  0.,\n",
       "        0.,  0.,  1., -0.,  0.,  0.,  0.,  0.,  0.,  1.,  0.,  0.,  1.,\n",
       "       -0., -0.,  0.,  0.,  0.,  0.,  0.,  0.,  1., -0.,  1.,  1.,  1.,\n",
       "        1.,  1.,  1.,  1.,  1.,  1.,  1.,  1.,  1.,  1.,  1.,  1.,  1.,\n",
       "        1.,  1.,  1.,  1.,  1.,  1.,  1.,  1.,  1.,  1.,  1.,  1.,  1.,\n",
       "        1.,  1.,  1.,  1.,  1.,  1.,  1.,  1.,  1.,  1.,  1.,  1.,  1.,\n",
       "        1.,  1.,  1.,  1.,  1.,  1.,  1.,  1.,  1.,  1.,  1.,  1.,  1.,\n",
       "        1.,  1.,  1.,  1.,  1.,  1.,  1.,  1.,  1.,  1.,  1.,  1.,  1.,\n",
       "        1.,  1.,  1.,  1.,  1.,  1.,  1.,  1.,  1.,  1.,  1.,  1.,  1.,\n",
       "        1.,  1.,  1.,  1.,  1.,  1.,  1.])"
      ]
     },
     "execution_count": 19,
     "metadata": {},
     "output_type": "execute_result"
    }
   ],
   "source": [
    "# Implementation - 3rd year\n",
    "x20_3=implementation(c20,15)\n",
    "x20_3.value"
   ]
  },
  {
   "cell_type": "code",
   "execution_count": 20,
   "metadata": {},
   "outputs": [
    {
     "data": {
      "text/plain": [
       "array([[ 3],\n",
       "       [ 7],\n",
       "       [13],\n",
       "       [17],\n",
       "       [28],\n",
       "       [32],\n",
       "       [34],\n",
       "       [37],\n",
       "       [50],\n",
       "       [54],\n",
       "       [58],\n",
       "       [67],\n",
       "       [74],\n",
       "       [77],\n",
       "       [86]])"
      ]
     },
     "execution_count": 20,
     "metadata": {},
     "output_type": "execute_result"
    }
   ],
   "source": [
    "x_index20_3=np.argwhere(x20_3.value==1)\n",
    "x_index20_3[:15]"
   ]
  },
  {
   "cell_type": "markdown",
   "metadata": {},
   "source": [
    "<font color=red>**Conclusion:**<br/>\n",
    "When k=5, the solution is (11, 21, 55, 60, 75);<br/>\n",
    "when k=10, the solution is (10, 12, 15, 21, 45, 51, 59, 73, 78, 83);<br/>\n",
    "when k=15, the solution is (4, 8, 14, 18, 29, 33, 35, 38, 51, 55, 59, 68, 75, 78, 87)."
   ]
  },
  {
   "cell_type": "markdown",
   "metadata": {},
   "source": [
    " "
   ]
  },
  {
   "cell_type": "markdown",
   "metadata": {},
   "source": [
    "## (4) The \"glide-path\" property issue"
   ]
  },
  {
   "cell_type": "markdown",
   "metadata": {},
   "source": [
    "### <font face=Times New Roman>- Question 3- <br/><font size =3> Verify whether the solution from 2011 satisfies the “glide-path” property described in the paper.</font>"
   ]
  },
  {
   "cell_type": "markdown",
   "metadata": {},
   "source": [
    "<font color=red> ***The glide path of 2010 itself:***"
   ]
  },
  {
   "cell_type": "markdown",
   "metadata": {},
   "source": [
    "From the conclusion of Question 1, we can see that when k=10, the solution set (10, 12, 15, 21, 45, 51, 59, 73, 78, 83) does not conclude the solution set (11, 21, 55, 60, 75) when k=5, and when k=15, the solution set (4, 8, 14, 18, 29, 33, 35, 38, 51, 55, 59, 68, 75, 78, 87) does not conclude the solution set when k=10."
   ]
  },
  {
   "cell_type": "markdown",
   "metadata": {},
   "source": [
    "<font color=red>**Conclusion:** <br/>\n",
    " the three-year implementation plan of 2011 does not satisfies the \"glide-path\" property.   "
   ]
  },
  {
   "cell_type": "markdown",
   "metadata": {},
   "source": [
    "  "
   ]
  },
  {
   "cell_type": "markdown",
   "metadata": {},
   "source": [
    "<font color=red>***The glide path of 2010-2020:*** <br/>"
   ]
  },
  {
   "cell_type": "markdown",
   "metadata": {},
   "source": [
    "Taking 2020's data into consideration, we are dedicated to find out the k pairs that make the implementation plans using 2011's data and 2020's data satisfy the \"glide path\" to get a more general conclusion. Our thread is as follows:<br/>\n",
    "1. Work out the solutions respectively using 2010's and 2020's population data when k differs from 1 to 15 to get ***l10*** and ***l20***.\n",
    "2. Compare the solutions of 2010 and 2020 when $k^{2020}$ $\\geq$ $k^{2010}$ to conclude the k pairs that make the solution satisfy the \"glide-path\"."
   ]
  },
  {
   "cell_type": "code",
   "execution_count": 21,
   "metadata": {},
   "outputs": [
    {
     "data": {
      "text/plain": [
       "[[76],\n",
       " [10, 76],\n",
       " [10, 54, 76],\n",
       " [10, 54, 59, 74],\n",
       " [10, 20, 54, 59, 74],\n",
       " [10, 17, 40, 54, 74, 77],\n",
       " [10, 17, 24, 40, 54, 74, 77],\n",
       " [10, 17, 24, 40, 50, 54, 74, 77],\n",
       " [10, 14, 17, 24, 40, 50, 54, 74, 77],\n",
       " [9, 11, 14, 20, 44, 50, 58, 72, 77, 82],\n",
       " [9, 11, 14, 20, 44, 50, 58, 67, 72, 77, 82],\n",
       " [9, 11, 14, 17, 40, 44, 50, 58, 67, 72, 77, 82],\n",
       " [9, 11, 14, 17, 34, 37, 44, 50, 58, 67, 72, 77, 82],\n",
       " [7, 12, 14, 17, 27, 37, 44, 50, 58, 67, 72, 77, 82],\n",
       " [3, 7, 13, 17, 28, 32, 34, 37, 50, 54, 58, 67, 74, 77, 86]]"
      ]
     },
     "execution_count": 21,
     "metadata": {},
     "output_type": "execute_result"
    }
   ],
   "source": [
    "# the solution for 2010 population data when k_2010 differs from 1 to 15\n",
    "l10=[]\n",
    "for i in range(1,16):\n",
    "    x10=implementation(c10,i)\n",
    "    x_index=pd.DataFrame(np.argwhere(x10.value==1))\n",
    "    x_index.rename(columns={0:\"county\"},inplace=True)\n",
    "    x=x_index[x_index.county<88].values.reshape(1,-1)[0].tolist()\n",
    "    l10.append(x)\n",
    "l10"
   ]
  },
  {
   "cell_type": "code",
   "execution_count": 22,
   "metadata": {},
   "outputs": [
    {
     "data": {
      "text/plain": [
       "[[76],\n",
       " [10, 76],\n",
       " [10, 54, 76],\n",
       " [10, 54, 59, 74],\n",
       " [10, 20, 54, 59, 74],\n",
       " [10, 17, 40, 54, 74, 77],\n",
       " [10, 17, 24, 40, 54, 74, 77],\n",
       " [10, 17, 24, 40, 50, 54, 74, 77],\n",
       " [10, 14, 17, 24, 40, 50, 54, 74, 77],\n",
       " [9, 11, 14, 20, 44, 50, 58, 72, 77, 82],\n",
       " [9, 11, 14, 20, 44, 50, 58, 67, 72, 77, 82],\n",
       " [9, 11, 14, 17, 44, 50, 58, 67, 72, 77, 82],\n",
       " [9, 11, 14, 17, 38, 41, 44, 50, 58, 67, 72, 77, 82],\n",
       " [7, 14, 17, 24, 27, 34, 37, 44, 50, 58, 67, 72, 77, 82],\n",
       " [3, 7, 13, 17, 28, 32, 34, 37, 50, 54, 58, 67, 74, 77, 86]]"
      ]
     },
     "execution_count": 22,
     "metadata": {},
     "output_type": "execute_result"
    }
   ],
   "source": [
    "# the solution for 2020 population data when k_2020 differs from 1 to 15\n",
    "l20=[]\n",
    "for i in range(1,16):\n",
    "    x20=implementation(c20,i)\n",
    "    x_index=pd.DataFrame(np.argwhere(x20.value==1))\n",
    "    x_index.rename(columns={0:\"county\"},inplace=True)\n",
    "    x=x_index[x_index.county<88].values.reshape(1,-1)[0].tolist()\n",
    "    l20.append(x)\n",
    "l20"
   ]
  },
  {
   "cell_type": "markdown",
   "metadata": {},
   "source": [
    "We make a dataframe \"glide_path\" to display whether the principal places built in 2010 are included in those built in 2020 when $k^{2020}$ $\\geq$ $k^{2010}$. If so, the value in the dataframe is 1, otherwise is 0."
   ]
  },
  {
   "cell_type": "code",
   "execution_count": 23,
   "metadata": {},
   "outputs": [
    {
     "data": {
      "text/html": [
       "<div>\n",
       "<style scoped>\n",
       "    .dataframe tbody tr th:only-of-type {\n",
       "        vertical-align: middle;\n",
       "    }\n",
       "\n",
       "    .dataframe tbody tr th {\n",
       "        vertical-align: top;\n",
       "    }\n",
       "\n",
       "    .dataframe thead th {\n",
       "        text-align: right;\n",
       "    }\n",
       "</style>\n",
       "<table border=\"1\" class=\"dataframe\">\n",
       "  <thead>\n",
       "    <tr style=\"text-align: right;\">\n",
       "      <th></th>\n",
       "      <th>0</th>\n",
       "      <th>1</th>\n",
       "      <th>2</th>\n",
       "      <th>3</th>\n",
       "      <th>4</th>\n",
       "      <th>5</th>\n",
       "      <th>6</th>\n",
       "      <th>7</th>\n",
       "      <th>8</th>\n",
       "      <th>9</th>\n",
       "      <th>10</th>\n",
       "      <th>11</th>\n",
       "      <th>12</th>\n",
       "      <th>13</th>\n",
       "      <th>14</th>\n",
       "    </tr>\n",
       "  </thead>\n",
       "  <tbody>\n",
       "    <tr>\n",
       "      <th>0</th>\n",
       "      <td>1</td>\n",
       "      <td>1</td>\n",
       "      <td>1</td>\n",
       "      <td>0</td>\n",
       "      <td>0</td>\n",
       "      <td>0</td>\n",
       "      <td>0</td>\n",
       "      <td>0</td>\n",
       "      <td>0</td>\n",
       "      <td>0</td>\n",
       "      <td>0</td>\n",
       "      <td>0</td>\n",
       "      <td>0</td>\n",
       "      <td>0</td>\n",
       "      <td>0</td>\n",
       "    </tr>\n",
       "    <tr>\n",
       "      <th>1</th>\n",
       "      <td>2</td>\n",
       "      <td>1</td>\n",
       "      <td>1</td>\n",
       "      <td>0</td>\n",
       "      <td>0</td>\n",
       "      <td>0</td>\n",
       "      <td>0</td>\n",
       "      <td>0</td>\n",
       "      <td>0</td>\n",
       "      <td>0</td>\n",
       "      <td>0</td>\n",
       "      <td>0</td>\n",
       "      <td>0</td>\n",
       "      <td>0</td>\n",
       "      <td>0</td>\n",
       "    </tr>\n",
       "    <tr>\n",
       "      <th>2</th>\n",
       "      <td>2</td>\n",
       "      <td>2</td>\n",
       "      <td>1</td>\n",
       "      <td>0</td>\n",
       "      <td>0</td>\n",
       "      <td>0</td>\n",
       "      <td>0</td>\n",
       "      <td>0</td>\n",
       "      <td>0</td>\n",
       "      <td>0</td>\n",
       "      <td>0</td>\n",
       "      <td>0</td>\n",
       "      <td>0</td>\n",
       "      <td>0</td>\n",
       "      <td>0</td>\n",
       "    </tr>\n",
       "    <tr>\n",
       "      <th>3</th>\n",
       "      <td>2</td>\n",
       "      <td>2</td>\n",
       "      <td>2</td>\n",
       "      <td>1</td>\n",
       "      <td>1</td>\n",
       "      <td>0</td>\n",
       "      <td>0</td>\n",
       "      <td>0</td>\n",
       "      <td>0</td>\n",
       "      <td>0</td>\n",
       "      <td>0</td>\n",
       "      <td>0</td>\n",
       "      <td>0</td>\n",
       "      <td>0</td>\n",
       "      <td>0</td>\n",
       "    </tr>\n",
       "    <tr>\n",
       "      <th>4</th>\n",
       "      <td>2</td>\n",
       "      <td>2</td>\n",
       "      <td>2</td>\n",
       "      <td>2</td>\n",
       "      <td>1</td>\n",
       "      <td>0</td>\n",
       "      <td>0</td>\n",
       "      <td>0</td>\n",
       "      <td>0</td>\n",
       "      <td>0</td>\n",
       "      <td>0</td>\n",
       "      <td>0</td>\n",
       "      <td>0</td>\n",
       "      <td>0</td>\n",
       "      <td>0</td>\n",
       "    </tr>\n",
       "    <tr>\n",
       "      <th>5</th>\n",
       "      <td>2</td>\n",
       "      <td>2</td>\n",
       "      <td>2</td>\n",
       "      <td>2</td>\n",
       "      <td>2</td>\n",
       "      <td>1</td>\n",
       "      <td>1</td>\n",
       "      <td>1</td>\n",
       "      <td>1</td>\n",
       "      <td>0</td>\n",
       "      <td>0</td>\n",
       "      <td>0</td>\n",
       "      <td>0</td>\n",
       "      <td>0</td>\n",
       "      <td>0</td>\n",
       "    </tr>\n",
       "    <tr>\n",
       "      <th>6</th>\n",
       "      <td>2</td>\n",
       "      <td>2</td>\n",
       "      <td>2</td>\n",
       "      <td>2</td>\n",
       "      <td>2</td>\n",
       "      <td>2</td>\n",
       "      <td>1</td>\n",
       "      <td>1</td>\n",
       "      <td>1</td>\n",
       "      <td>0</td>\n",
       "      <td>0</td>\n",
       "      <td>0</td>\n",
       "      <td>0</td>\n",
       "      <td>0</td>\n",
       "      <td>0</td>\n",
       "    </tr>\n",
       "    <tr>\n",
       "      <th>7</th>\n",
       "      <td>2</td>\n",
       "      <td>2</td>\n",
       "      <td>2</td>\n",
       "      <td>2</td>\n",
       "      <td>2</td>\n",
       "      <td>2</td>\n",
       "      <td>2</td>\n",
       "      <td>1</td>\n",
       "      <td>1</td>\n",
       "      <td>0</td>\n",
       "      <td>0</td>\n",
       "      <td>0</td>\n",
       "      <td>0</td>\n",
       "      <td>0</td>\n",
       "      <td>0</td>\n",
       "    </tr>\n",
       "    <tr>\n",
       "      <th>8</th>\n",
       "      <td>2</td>\n",
       "      <td>2</td>\n",
       "      <td>2</td>\n",
       "      <td>2</td>\n",
       "      <td>2</td>\n",
       "      <td>2</td>\n",
       "      <td>2</td>\n",
       "      <td>2</td>\n",
       "      <td>1</td>\n",
       "      <td>0</td>\n",
       "      <td>0</td>\n",
       "      <td>0</td>\n",
       "      <td>0</td>\n",
       "      <td>0</td>\n",
       "      <td>0</td>\n",
       "    </tr>\n",
       "    <tr>\n",
       "      <th>9</th>\n",
       "      <td>2</td>\n",
       "      <td>2</td>\n",
       "      <td>2</td>\n",
       "      <td>2</td>\n",
       "      <td>2</td>\n",
       "      <td>2</td>\n",
       "      <td>2</td>\n",
       "      <td>2</td>\n",
       "      <td>2</td>\n",
       "      <td>1</td>\n",
       "      <td>1</td>\n",
       "      <td>0</td>\n",
       "      <td>0</td>\n",
       "      <td>0</td>\n",
       "      <td>0</td>\n",
       "    </tr>\n",
       "    <tr>\n",
       "      <th>10</th>\n",
       "      <td>2</td>\n",
       "      <td>2</td>\n",
       "      <td>2</td>\n",
       "      <td>2</td>\n",
       "      <td>2</td>\n",
       "      <td>2</td>\n",
       "      <td>2</td>\n",
       "      <td>2</td>\n",
       "      <td>2</td>\n",
       "      <td>2</td>\n",
       "      <td>1</td>\n",
       "      <td>0</td>\n",
       "      <td>0</td>\n",
       "      <td>0</td>\n",
       "      <td>0</td>\n",
       "    </tr>\n",
       "    <tr>\n",
       "      <th>11</th>\n",
       "      <td>2</td>\n",
       "      <td>2</td>\n",
       "      <td>2</td>\n",
       "      <td>2</td>\n",
       "      <td>2</td>\n",
       "      <td>2</td>\n",
       "      <td>2</td>\n",
       "      <td>2</td>\n",
       "      <td>2</td>\n",
       "      <td>2</td>\n",
       "      <td>2</td>\n",
       "      <td>0</td>\n",
       "      <td>0</td>\n",
       "      <td>0</td>\n",
       "      <td>0</td>\n",
       "    </tr>\n",
       "    <tr>\n",
       "      <th>12</th>\n",
       "      <td>2</td>\n",
       "      <td>2</td>\n",
       "      <td>2</td>\n",
       "      <td>2</td>\n",
       "      <td>2</td>\n",
       "      <td>2</td>\n",
       "      <td>2</td>\n",
       "      <td>2</td>\n",
       "      <td>2</td>\n",
       "      <td>2</td>\n",
       "      <td>2</td>\n",
       "      <td>2</td>\n",
       "      <td>0</td>\n",
       "      <td>0</td>\n",
       "      <td>0</td>\n",
       "    </tr>\n",
       "    <tr>\n",
       "      <th>13</th>\n",
       "      <td>2</td>\n",
       "      <td>2</td>\n",
       "      <td>2</td>\n",
       "      <td>2</td>\n",
       "      <td>2</td>\n",
       "      <td>2</td>\n",
       "      <td>2</td>\n",
       "      <td>2</td>\n",
       "      <td>2</td>\n",
       "      <td>2</td>\n",
       "      <td>2</td>\n",
       "      <td>2</td>\n",
       "      <td>2</td>\n",
       "      <td>0</td>\n",
       "      <td>0</td>\n",
       "    </tr>\n",
       "    <tr>\n",
       "      <th>14</th>\n",
       "      <td>2</td>\n",
       "      <td>2</td>\n",
       "      <td>2</td>\n",
       "      <td>2</td>\n",
       "      <td>2</td>\n",
       "      <td>2</td>\n",
       "      <td>2</td>\n",
       "      <td>2</td>\n",
       "      <td>2</td>\n",
       "      <td>2</td>\n",
       "      <td>2</td>\n",
       "      <td>2</td>\n",
       "      <td>2</td>\n",
       "      <td>2</td>\n",
       "      <td>1</td>\n",
       "    </tr>\n",
       "  </tbody>\n",
       "</table>\n",
       "</div>"
      ],
      "text/plain": [
       "    0  1  2  3  4  5  6  7  8  9  10  11  12  13  14\n",
       "0   1  1  1  0  0  0  0  0  0  0   0   0   0   0   0\n",
       "1   2  1  1  0  0  0  0  0  0  0   0   0   0   0   0\n",
       "2   2  2  1  0  0  0  0  0  0  0   0   0   0   0   0\n",
       "3   2  2  2  1  1  0  0  0  0  0   0   0   0   0   0\n",
       "4   2  2  2  2  1  0  0  0  0  0   0   0   0   0   0\n",
       "5   2  2  2  2  2  1  1  1  1  0   0   0   0   0   0\n",
       "6   2  2  2  2  2  2  1  1  1  0   0   0   0   0   0\n",
       "7   2  2  2  2  2  2  2  1  1  0   0   0   0   0   0\n",
       "8   2  2  2  2  2  2  2  2  1  0   0   0   0   0   0\n",
       "9   2  2  2  2  2  2  2  2  2  1   1   0   0   0   0\n",
       "10  2  2  2  2  2  2  2  2  2  2   1   0   0   0   0\n",
       "11  2  2  2  2  2  2  2  2  2  2   2   0   0   0   0\n",
       "12  2  2  2  2  2  2  2  2  2  2   2   2   0   0   0\n",
       "13  2  2  2  2  2  2  2  2  2  2   2   2   2   0   0\n",
       "14  2  2  2  2  2  2  2  2  2  2   2   2   2   2   1"
      ]
     },
     "execution_count": 23,
     "metadata": {},
     "output_type": "execute_result"
    }
   ],
   "source": [
    "# the columns are k_2020, the rows are k_2010\n",
    "glide_path=pd.DataFrame([[2]*15]*15)\n",
    "for i in range(15):\n",
    "    x10_=l10[i]\n",
    "    for j in range(i,15):\n",
    "        x20_=l20[j]\n",
    "        TF=set(x20_)>=set(x10_)\n",
    "        if TF is True:\n",
    "            glide_path.loc[i,j]=1\n",
    "        else:\n",
    "            glide_path.loc[i,j]=0\n",
    "glide_path"
   ]
  },
  {
   "cell_type": "markdown",
   "metadata": {},
   "source": [
    "We group the dataframe by $k^{2010}$ to clearly see the set of $k^{2020}$ that meet the requirement of \"glide path\"."
   ]
  },
  {
   "cell_type": "code",
   "execution_count": 24,
   "metadata": {},
   "outputs": [
    {
     "data": {
      "text/html": [
       "<div>\n",
       "<style scoped>\n",
       "    .dataframe tbody tr th:only-of-type {\n",
       "        vertical-align: middle;\n",
       "    }\n",
       "\n",
       "    .dataframe tbody tr th {\n",
       "        vertical-align: top;\n",
       "    }\n",
       "\n",
       "    .dataframe thead th {\n",
       "        text-align: right;\n",
       "    }\n",
       "</style>\n",
       "<table border=\"1\" class=\"dataframe\">\n",
       "  <thead>\n",
       "    <tr style=\"text-align: right;\">\n",
       "      <th></th>\n",
       "      <th>2010</th>\n",
       "      <th>2020</th>\n",
       "    </tr>\n",
       "  </thead>\n",
       "  <tbody>\n",
       "    <tr>\n",
       "      <th>0</th>\n",
       "      <td>1</td>\n",
       "      <td>[1, 2, 3]</td>\n",
       "    </tr>\n",
       "    <tr>\n",
       "      <th>1</th>\n",
       "      <td>2</td>\n",
       "      <td>[2, 3]</td>\n",
       "    </tr>\n",
       "    <tr>\n",
       "      <th>2</th>\n",
       "      <td>3</td>\n",
       "      <td>[3]</td>\n",
       "    </tr>\n",
       "    <tr>\n",
       "      <th>3</th>\n",
       "      <td>4</td>\n",
       "      <td>[4, 5]</td>\n",
       "    </tr>\n",
       "    <tr>\n",
       "      <th>4</th>\n",
       "      <td>5</td>\n",
       "      <td>[5]</td>\n",
       "    </tr>\n",
       "    <tr>\n",
       "      <th>5</th>\n",
       "      <td>6</td>\n",
       "      <td>[6, 7, 8, 9]</td>\n",
       "    </tr>\n",
       "    <tr>\n",
       "      <th>6</th>\n",
       "      <td>7</td>\n",
       "      <td>[7, 8, 9]</td>\n",
       "    </tr>\n",
       "    <tr>\n",
       "      <th>7</th>\n",
       "      <td>8</td>\n",
       "      <td>[8, 9]</td>\n",
       "    </tr>\n",
       "    <tr>\n",
       "      <th>8</th>\n",
       "      <td>9</td>\n",
       "      <td>[9]</td>\n",
       "    </tr>\n",
       "    <tr>\n",
       "      <th>9</th>\n",
       "      <td>10</td>\n",
       "      <td>[10, 11]</td>\n",
       "    </tr>\n",
       "    <tr>\n",
       "      <th>10</th>\n",
       "      <td>11</td>\n",
       "      <td>[11]</td>\n",
       "    </tr>\n",
       "    <tr>\n",
       "      <th>11</th>\n",
       "      <td>15</td>\n",
       "      <td>[15]</td>\n",
       "    </tr>\n",
       "  </tbody>\n",
       "</table>\n",
       "</div>"
      ],
      "text/plain": [
       "    2010          2020\n",
       "0      1     [1, 2, 3]\n",
       "1      2        [2, 3]\n",
       "2      3           [3]\n",
       "3      4        [4, 5]\n",
       "4      5           [5]\n",
       "5      6  [6, 7, 8, 9]\n",
       "6      7     [7, 8, 9]\n",
       "7      8        [8, 9]\n",
       "8      9           [9]\n",
       "9     10      [10, 11]\n",
       "10    11          [11]\n",
       "11    15          [15]"
      ]
     },
     "execution_count": 24,
     "metadata": {},
     "output_type": "execute_result"
    }
   ],
   "source": [
    "l_index=[]\n",
    "for i in range(15):\n",
    "    for j in range(15):\n",
    "        if glide_path.loc[i,j]==1:\n",
    "            l_index.append([i,j])\n",
    "df_index=pd.DataFrame(l_index)\n",
    "df_index.rename(columns={0:'2010',1:'2020'},inplace=True)\n",
    "df_index[:]+=1\n",
    "df_index.groupby('2010',as_index=False).agg(list)"
   ]
  },
  {
   "cell_type": "markdown",
   "metadata": {},
   "source": [
    "<font color=red>**Conclusion:**  \n",
    "    With the pairs of ($k^{2010}$,$k^{2020}$) above, the solution from 2011 satisfies the “glide-path” property described in the paper. Otherwise, it does not satisfy."
   ]
  },
  {
   "cell_type": "markdown",
   "metadata": {},
   "source": [
    "  "
   ]
  },
  {
   "cell_type": "markdown",
   "metadata": {},
   "source": [
    "### <font face=Times New Roman>- Question 4- <br/><font size =3> Assuming that you knew the 2020 data in 2011, setup a mathematical model (no need to solve it) to ensure the glide-path property would be satisfied for the 2011 solution (in 2020).</font>"
   ]
  },
  {
   "cell_type": "markdown",
   "metadata": {},
   "source": [
    "Calculate the weight of $ pop^{2010}_i $$y^{2010}_i$ and $ pop^{2020}_i $$y^{2020}_i$ in the objective function using the ratio of these two years' population "
   ]
  },
  {
   "cell_type": "code",
   "execution_count": 25,
   "metadata": {},
   "outputs": [
    {
     "data": {
      "text/plain": [
       "0.49384397542557595"
      ]
     },
     "execution_count": 25,
     "metadata": {},
     "output_type": "execute_result"
    }
   ],
   "source": [
    "w2010=sum(c10)/(sum(c10)+sum(c20))\n",
    "w2010"
   ]
  },
  {
   "cell_type": "code",
   "execution_count": 26,
   "metadata": {},
   "outputs": [
    {
     "data": {
      "text/plain": [
       "0.5061560245744241"
      ]
     },
     "execution_count": 26,
     "metadata": {},
     "output_type": "execute_result"
    }
   ],
   "source": [
    "w2020=sum(c20)/(sum(c10)+sum(c20))\n",
    "w2020"
   ]
  },
  {
   "cell_type": "markdown",
   "metadata": {},
   "source": [
    "<font color=red>**Conclusion:**\n",
    "* Let $x^{2010}_j$=1 and $x^{2020}_j$=1 if we place a principal place of business location in county j in 2010 or 2020 and 0 if not; j=1,2,...,88.<br/>\n",
    "* Let $y^{2010}_i$=1 and $y^{2020}_i$=1 if county i is covered in 2010 or 2020 and 0 if not; i=1,2,...,88.<br/>\n",
    "* Let $a_{ij}$=1 if county i and county j share a border and 0 if not ($a_{ii}$=1). <br/>\n",
    "* Define $pop^{2010}_i$ and $pop^{2020}_i$ to be the population of county i in 2010 or 2020.<br/>\n",
    "* Define $k^{2010}$ and $k^{2020}$ to be the number of principal places of business we want to build in 2010 or 2020.<br/>\n",
    "<br/>\n",
    "The model is as follows:"
   ]
  },
  {
   "cell_type": "code",
   "execution_count": 27,
   "metadata": {},
   "outputs": [],
   "source": [
    "from IPython.display import Image"
   ]
  },
  {
   "cell_type": "code",
   "execution_count": 28,
   "metadata": {},
   "outputs": [
    {
     "data": {
      "image/png": "[encoded data removed]",
      "text/plain": [
       "<IPython.core.display.Image object>"
      ]
     },
     "execution_count": 28,
     "metadata": {
      "image/png": {
       "height": 1200,
       "width": 600
      }
     },
     "output_type": "execute_result"
    }
   ],
   "source": [
    "Image(\"fun1.png\",width=600,height=1200)"
   ]
  },
  {
   "cell_type": "markdown",
   "metadata": {},
   "source": [
    "<font color=red>The objective function maximize the weighted population reached in 2010 and 2020. <br/>\n",
    "The constraint set (1)&(2) ensure that a county i is covered only if it or an adjacent county is selected as a principal place of business. <br/>\n",
    "Constraint set (3)&(4) ensure that no more than $k^{2010}$ and $k^{2010}$ principal places of business are selected in 2010 and 2020. "
   ]
  },
  {
   "cell_type": "markdown",
   "metadata": {},
   "source": [
    "  "
   ]
  },
  {
   "cell_type": "markdown",
   "metadata": {},
   "source": [
    "<font color=grey>\n",
    "Reference:<br/>\n",
    "[1] Jeffrey D. Camm. How to Influence and Improve Decisions Through Optimization Models. In INFORMS TutORials in Operations Research. Published online: 19 Oct 2018; 1-19.\n"
   ]
  }
 ],
 "metadata": {
  "kernelspec": {
   "display_name": "Python 3",
   "language": "python",
   "name": "python3"
  },
  "language_info": {
   "codemirror_mode": {
    "name": "ipython",
    "version": 3
   },
   "file_extension": ".py",
   "mimetype": "text/x-python",
   "name": "python",
   "nbconvert_exporter": "python",
   "pygments_lexer": "ipython3",
   "version": "3.7.0"
  }
 },
 "nbformat": 4,
 "nbformat_minor": 4
}
